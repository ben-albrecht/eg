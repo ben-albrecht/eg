{
 "metadata": {
  "name": "",
  "signature": "sha256:2c19cd7c5fbdaf66ae95f7b9572b6ecc8a0df5cef5eb115b55d5ba75d4e80e8e"
 },
 "nbformat": 3,
 "nbformat_minor": 0,
 "worksheets": []
}